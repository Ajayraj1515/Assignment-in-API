{
 "cells": [
  {
   "cell_type": "code",
   "execution_count": 1,
   "id": "2f00866d",
   "metadata": {},
   "outputs": [],
   "source": [
    "import nltk\n",
    "from nltk.corpus import stopwords\n",
    "from nltk.tokenize import word_tokenize\n",
    "from nltk.tag import pos_tag\n",
    "from datetime import datetime, timedelta\n",
    "from flask import Flask, request\n",
    "from textblob import TextBlob"
   ]
  },
  {
   "cell_type": "code",
   "execution_count": 2,
   "id": "7831c3f6",
   "metadata": {},
   "outputs": [
    {
     "name": "stderr",
     "output_type": "stream",
     "text": [
      "[nltk_data] Downloading package stopwords to\n",
      "[nltk_data]     C:\\Users\\Ajayraj\\AppData\\Roaming\\nltk_data...\n",
      "[nltk_data]   Package stopwords is already up-to-date!\n",
      "[nltk_data] Downloading package punkt to\n",
      "[nltk_data]     C:\\Users\\Ajayraj\\AppData\\Roaming\\nltk_data...\n",
      "[nltk_data]   Package punkt is already up-to-date!\n",
      "[nltk_data] Downloading package averaged_perceptron_tagger to\n",
      "[nltk_data]     C:\\Users\\Ajayraj\\AppData\\Roaming\\nltk_data...\n",
      "[nltk_data]   Package averaged_perceptron_tagger is already up-to-\n",
      "[nltk_data]       date!\n"
     ]
    }
   ],
   "source": [
    "# download necessary nltk resources\n",
    "nltk.download('stopwords')\n",
    "nltk.download('punkt')\n",
    "nltk.download('averaged_perceptron_tagger')\n",
    "\n",
    "app = Flask(__name__)\n"
   ]
  },
  {
   "cell_type": "code",
   "execution_count": null,
   "id": "86bcb9cc",
   "metadata": {},
   "outputs": [
    {
     "name": "stdout",
     "output_type": "stream",
     "text": [
      " * Serving Flask app \"__main__\" (lazy loading)\n",
      " * Environment: production\n",
      "\u001b[31m   WARNING: This is a development server. Do not use it in a production deployment.\u001b[0m\n",
      "\u001b[2m   Use a production WSGI server instead.\u001b[0m\n",
      " * Debug mode: off\n"
     ]
    },
    {
     "name": "stderr",
     "output_type": "stream",
     "text": [
      " * Running on http://127.0.0.1:5000/ (Press CTRL+C to quit)\n"
     ]
    }
   ],
   "source": [
    "# define function to extract relevant information from the input text\n",
    "def extract_information(input_text):\n",
    "    # define stop words to remove from text\n",
    "    stop_words = set(stopwords.words('english'))\n",
    "\n",
    "    # tokenize the input text\n",
    "    words = word_tokenize(input_text)\n",
    "\n",
    "    # remove stop words and punctuation\n",
    "    filtered_words = [word for word in words if word.lower() not in stop_words and word.isalpha()]\n",
    "\n",
    "    # part of speech tagging to identify nouns, verbs, adjectives, etc.\n",
    "    pos_tags = pos_tag(filtered_words)\n",
    "\n",
    "    # initialize variables to hold extracted information\n",
    "    participants = []\n",
    "    date = None\n",
    "    time = None\n",
    "    duration = None\n",
    "    agenda = None\n",
    "\n",
    "    # loop through pos tags to extract information\n",
    "    for i in range(len(pos_tags)):\n",
    "        word, pos = pos_tags[i]\n",
    "\n",
    "        # extract participants\n",
    "        if pos == 'NNP':\n",
    "            participants.append(word)\n",
    "\n",
    "        # extract date\n",
    "        elif pos == 'CD':\n",
    "            current_word, next_word = word, pos_tags[i+1][0]\n",
    "            if current_word.lower() == 'next':\n",
    "                if next_word.lower() == 'week':\n",
    "                    date = (datetime.now() + timedelta(days=7)).strftime('%Y-%m-%d')\n",
    "                elif next_word.lower() == 'wednesday':\n",
    "                    date = (datetime.now() + timedelta(days=(2-datetime.now().weekday()))).strftime('%Y-%m-%d')\n",
    "                else:\n",
    "                    continue\n",
    "            else:\n",
    "                continue\n",
    "\n",
    "        # extract time\n",
    "        elif pos == 'JJ' and word.lower() == 'hour':\n",
    "            if pos_tags[i-1][1] == 'CD':\n",
    "                duration = int(pos_tags[i-1][0])\n",
    "            else:\n",
    "                continue\n",
    "        elif pos == 'CD' and pos_tags[i+1][0].lower() == 'hour':\n",
    "            duration = int(word)\n",
    "\n",
    "        # extract agenda\n",
    "        elif pos == 'TO' and pos_tags[i+1][1] == 'VB':\n",
    "            agenda = ' '.join([word for word, pos in pos_tags[i+2:]])\n",
    "\n",
    "    # return extracted information as a dictionary\n",
    "    return {'participants': participants, 'date': date, 'time': time, 'duration': duration, 'agenda': agenda}\n",
    "\n",
    "@app.route('/schedule', methods=['POST'])\n",
    "def schedule():\n",
    "    text = request.form['text']\n",
    "    extracted_info = extract_information(text)\n",
    "    # use extracted_info to schedule the meeting\n",
    "    return \"Meeting scheduled successfully!\"\n",
    "\n",
    "if __name__ == '__main__':\n",
    "    app.run()\n"
   ]
  },
  {
   "cell_type": "code",
   "execution_count": null,
   "id": "01ef88ea",
   "metadata": {},
   "outputs": [],
   "source": []
  }
 ],
 "metadata": {
  "kernelspec": {
   "display_name": "Python 3 (ipykernel)",
   "language": "python",
   "name": "python3"
  },
  "language_info": {
   "codemirror_mode": {
    "name": "ipython",
    "version": 3
   },
   "file_extension": ".py",
   "mimetype": "text/x-python",
   "name": "python",
   "nbconvert_exporter": "python",
   "pygments_lexer": "ipython3",
   "version": "3.9.12"
  }
 },
 "nbformat": 4,
 "nbformat_minor": 5
}
